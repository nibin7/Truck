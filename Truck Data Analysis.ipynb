{
 "cells": [
  {
   "cell_type": "code",
   "execution_count": 17,
   "id": "3fb3d0b5",
   "metadata": {},
   "outputs": [
    {
     "data": {
      "text/html": [
       "<div>\n",
       "<style scoped>\n",
       "    .dataframe tbody tr th:only-of-type {\n",
       "        vertical-align: middle;\n",
       "    }\n",
       "\n",
       "    .dataframe tbody tr th {\n",
       "        vertical-align: top;\n",
       "    }\n",
       "\n",
       "    .dataframe thead th {\n",
       "        text-align: right;\n",
       "    }\n",
       "</style>\n",
       "<table border=\"1\" class=\"dataframe\">\n",
       "  <thead>\n",
       "    <tr style=\"text-align: right;\">\n",
       "      <th></th>\n",
       "      <th>tire_location</th>\n",
       "      <th>temperature</th>\n",
       "      <th>pressure</th>\n",
       "      <th>gps_latitude</th>\n",
       "      <th>gps_longitude</th>\n",
       "      <th>vehicle_speed</th>\n",
       "      <th>fuel_level</th>\n",
       "      <th>oil_pressure</th>\n",
       "      <th>engine_temperature</th>\n",
       "    </tr>\n",
       "  </thead>\n",
       "  <tbody>\n",
       "    <tr>\n",
       "      <th>0</th>\n",
       "      <td>FL</td>\n",
       "      <td>77.3</td>\n",
       "      <td>105.4</td>\n",
       "      <td>39.9526</td>\n",
       "      <td>-75.1652</td>\n",
       "      <td>45</td>\n",
       "      <td>70</td>\n",
       "      <td>50</td>\n",
       "      <td>195</td>\n",
       "    </tr>\n",
       "    <tr>\n",
       "      <th>1</th>\n",
       "      <td>FR</td>\n",
       "      <td>81.2</td>\n",
       "      <td>107.8</td>\n",
       "      <td>39.9526</td>\n",
       "      <td>-75.1652</td>\n",
       "      <td>45</td>\n",
       "      <td>70</td>\n",
       "      <td>50</td>\n",
       "      <td>195</td>\n",
       "    </tr>\n",
       "    <tr>\n",
       "      <th>2</th>\n",
       "      <td>RL</td>\n",
       "      <td>75.9</td>\n",
       "      <td>98.6</td>\n",
       "      <td>39.9526</td>\n",
       "      <td>-75.1652</td>\n",
       "      <td>45</td>\n",
       "      <td>70</td>\n",
       "      <td>50</td>\n",
       "      <td>195</td>\n",
       "    </tr>\n",
       "    <tr>\n",
       "      <th>3</th>\n",
       "      <td>RR</td>\n",
       "      <td>79.1</td>\n",
       "      <td>102.1</td>\n",
       "      <td>39.9526</td>\n",
       "      <td>-75.1652</td>\n",
       "      <td>45</td>\n",
       "      <td>70</td>\n",
       "      <td>50</td>\n",
       "      <td>195</td>\n",
       "    </tr>\n",
       "    <tr>\n",
       "      <th>4</th>\n",
       "      <td>ML</td>\n",
       "      <td>73.6</td>\n",
       "      <td>101.3</td>\n",
       "      <td>39.9526</td>\n",
       "      <td>-75.1652</td>\n",
       "      <td>45</td>\n",
       "      <td>70</td>\n",
       "      <td>50</td>\n",
       "      <td>195</td>\n",
       "    </tr>\n",
       "    <tr>\n",
       "      <th>5</th>\n",
       "      <td>MR</td>\n",
       "      <td>74.8</td>\n",
       "      <td>100.2</td>\n",
       "      <td>39.9526</td>\n",
       "      <td>-75.1652</td>\n",
       "      <td>45</td>\n",
       "      <td>70</td>\n",
       "      <td>50</td>\n",
       "      <td>195</td>\n",
       "    </tr>\n",
       "    <tr>\n",
       "      <th>6</th>\n",
       "      <td>FOL</td>\n",
       "      <td>79.7</td>\n",
       "      <td>109.1</td>\n",
       "      <td>39.9526</td>\n",
       "      <td>-75.1652</td>\n",
       "      <td>45</td>\n",
       "      <td>70</td>\n",
       "      <td>50</td>\n",
       "      <td>195</td>\n",
       "    </tr>\n",
       "    <tr>\n",
       "      <th>7</th>\n",
       "      <td>FOR</td>\n",
       "      <td>78.3</td>\n",
       "      <td>108.7</td>\n",
       "      <td>39.9526</td>\n",
       "      <td>-75.1652</td>\n",
       "      <td>45</td>\n",
       "      <td>70</td>\n",
       "      <td>50</td>\n",
       "      <td>195</td>\n",
       "    </tr>\n",
       "    <tr>\n",
       "      <th>8</th>\n",
       "      <td>ROL</td>\n",
       "      <td>77.8</td>\n",
       "      <td>101.6</td>\n",
       "      <td>39.9526</td>\n",
       "      <td>-75.1652</td>\n",
       "      <td>45</td>\n",
       "      <td>70</td>\n",
       "      <td>50</td>\n",
       "      <td>195</td>\n",
       "    </tr>\n",
       "    <tr>\n",
       "      <th>9</th>\n",
       "      <td>ROR</td>\n",
       "      <td>80.2</td>\n",
       "      <td>103.8</td>\n",
       "      <td>39.9526</td>\n",
       "      <td>-75.1652</td>\n",
       "      <td>45</td>\n",
       "      <td>70</td>\n",
       "      <td>50</td>\n",
       "      <td>195</td>\n",
       "    </tr>\n",
       "    <tr>\n",
       "      <th>10</th>\n",
       "      <td>MOL</td>\n",
       "      <td>72.9</td>\n",
       "      <td>99.8</td>\n",
       "      <td>39.9526</td>\n",
       "      <td>-75.1652</td>\n",
       "      <td>45</td>\n",
       "      <td>70</td>\n",
       "      <td>50</td>\n",
       "      <td>195</td>\n",
       "    </tr>\n",
       "    <tr>\n",
       "      <th>11</th>\n",
       "      <td>MOR</td>\n",
       "      <td>73.8</td>\n",
       "      <td>100.7</td>\n",
       "      <td>39.9526</td>\n",
       "      <td>-75.1652</td>\n",
       "      <td>45</td>\n",
       "      <td>70</td>\n",
       "      <td>50</td>\n",
       "      <td>195</td>\n",
       "    </tr>\n",
       "    <tr>\n",
       "      <th>12</th>\n",
       "      <td>FIL</td>\n",
       "      <td>82.1</td>\n",
       "      <td>110.2</td>\n",
       "      <td>39.9526</td>\n",
       "      <td>-75.1652</td>\n",
       "      <td>45</td>\n",
       "      <td>70</td>\n",
       "      <td>50</td>\n",
       "      <td>195</td>\n",
       "    </tr>\n",
       "    <tr>\n",
       "      <th>13</th>\n",
       "      <td>FIR</td>\n",
       "      <td>83.5</td>\n",
       "      <td>111.5</td>\n",
       "      <td>39.9526</td>\n",
       "      <td>-75.1652</td>\n",
       "      <td>45</td>\n",
       "      <td>70</td>\n",
       "      <td>50</td>\n",
       "      <td>195</td>\n",
       "    </tr>\n",
       "    <tr>\n",
       "      <th>14</th>\n",
       "      <td>ROL2</td>\n",
       "      <td>76.5</td>\n",
       "      <td>100.9</td>\n",
       "      <td>39.9526</td>\n",
       "      <td>-75.1652</td>\n",
       "      <td>45</td>\n",
       "      <td>70</td>\n",
       "      <td>50</td>\n",
       "      <td>195</td>\n",
       "    </tr>\n",
       "    <tr>\n",
       "      <th>15</th>\n",
       "      <td>ROR2</td>\n",
       "      <td>79.7</td>\n",
       "      <td>102.4</td>\n",
       "      <td>39.9526</td>\n",
       "      <td>-75.1652</td>\n",
       "      <td>45</td>\n",
       "      <td>70</td>\n",
       "      <td>50</td>\n",
       "      <td>195</td>\n",
       "    </tr>\n",
       "  </tbody>\n",
       "</table>\n",
       "</div>"
      ],
      "text/plain": [
       "   tire_location  temperature  pressure  gps_latitude  gps_longitude  \\\n",
       "0             FL         77.3     105.4       39.9526       -75.1652   \n",
       "1             FR         81.2     107.8       39.9526       -75.1652   \n",
       "2             RL         75.9      98.6       39.9526       -75.1652   \n",
       "3             RR         79.1     102.1       39.9526       -75.1652   \n",
       "4             ML         73.6     101.3       39.9526       -75.1652   \n",
       "5             MR         74.8     100.2       39.9526       -75.1652   \n",
       "6            FOL         79.7     109.1       39.9526       -75.1652   \n",
       "7            FOR         78.3     108.7       39.9526       -75.1652   \n",
       "8            ROL         77.8     101.6       39.9526       -75.1652   \n",
       "9            ROR         80.2     103.8       39.9526       -75.1652   \n",
       "10           MOL         72.9      99.8       39.9526       -75.1652   \n",
       "11           MOR         73.8     100.7       39.9526       -75.1652   \n",
       "12           FIL         82.1     110.2       39.9526       -75.1652   \n",
       "13           FIR         83.5     111.5       39.9526       -75.1652   \n",
       "14          ROL2         76.5     100.9       39.9526       -75.1652   \n",
       "15          ROR2         79.7     102.4       39.9526       -75.1652   \n",
       "\n",
       "    vehicle_speed  fuel_level  oil_pressure  engine_temperature  \n",
       "0              45          70            50                 195  \n",
       "1              45          70            50                 195  \n",
       "2              45          70            50                 195  \n",
       "3              45          70            50                 195  \n",
       "4              45          70            50                 195  \n",
       "5              45          70            50                 195  \n",
       "6              45          70            50                 195  \n",
       "7              45          70            50                 195  \n",
       "8              45          70            50                 195  \n",
       "9              45          70            50                 195  \n",
       "10             45          70            50                 195  \n",
       "11             45          70            50                 195  \n",
       "12             45          70            50                 195  \n",
       "13             45          70            50                 195  \n",
       "14             45          70            50                 195  \n",
       "15             45          70            50                 195  "
      ]
     },
     "execution_count": 17,
     "metadata": {},
     "output_type": "execute_result"
    }
   ],
   "source": [
    "import pandas as pd\n",
    "import matplotlib.pyplot as plt\n",
    "\n",
    "# Load the data from CSV file into a pandas dataframe\n",
    "df = pd.read_csv('/home/nibin/Desktop/GoodYear/16wheeltrucksample.csv')\n",
    "\n",
    "# Displaying the dataframe\n",
    "df\n"
   ]
  },
  {
   "cell_type": "markdown",
   "id": "e96b9fe7",
   "metadata": {},
   "source": [
    "The full forms of tire locations are FL for front-left, FR for front-right, RL for rear-left, RR for rear-right, ML for middle-left, MR for middle-right, FOL for front-outer-left, FOR for front-outer-right, ROL for rear-outer-left, ROR for rear-outer-right, MOL for middle-outer-left, MOR for middle-outer-right, FIL for front-inner-left, FIR for front-inner-right, ROL2 for rear-outer-left-2, and ROR2 for rear-outer-right-2\n",
    "\n",
    "The temperature is measured in Fahrenheit, the pressure in PSI, and the GPS coordinates in decimal degrees of latitude and longitude. \n",
    "\n",
    "The vehicle speed is measured in miles per hour, and the fuel level, oil pressure, and engine temperature are measured in percentage, PSI, and Fahrenheit, respectively."
   ]
  },
  {
   "cell_type": "code",
   "execution_count": 12,
   "id": "c5da9e23",
   "metadata": {
    "scrolled": true
   },
   "outputs": [
    {
     "name": "stdout",
     "output_type": "stream",
     "text": [
      "       temperature    pressure  gps_latitude  gps_longitude  vehicle_speed  \\\n",
      "count    16.000000   16.000000       16.0000        16.0000           16.0   \n",
      "mean     77.900000  104.006250       39.9526       -75.1652           45.0   \n",
      "std       3.157003    4.164848        0.0000         0.0000            0.0   \n",
      "min      72.900000   98.600000       39.9526       -75.1652           45.0   \n",
      "25%      75.625000  100.850000       39.9526       -75.1652           45.0   \n",
      "50%      78.050000  102.250000       39.9526       -75.1652           45.0   \n",
      "75%      79.825000  108.025000       39.9526       -75.1652           45.0   \n",
      "max      83.500000  111.500000       39.9526       -75.1652           45.0   \n",
      "\n",
      "       fuel_level  oil_pressure  engine_temperature  \n",
      "count        16.0          16.0                16.0  \n",
      "mean         70.0          50.0               195.0  \n",
      "std           0.0           0.0                 0.0  \n",
      "min          70.0          50.0               195.0  \n",
      "25%          70.0          50.0               195.0  \n",
      "50%          70.0          50.0               195.0  \n",
      "75%          70.0          50.0               195.0  \n",
      "max          70.0          50.0               195.0  \n"
     ]
    }
   ],
   "source": [
    "# Summary statistics of the data\n",
    "print(df.describe())\n"
   ]
  },
  {
   "cell_type": "markdown",
   "id": "5060dffd",
   "metadata": {},
   "source": [
    "The count of observations for both temperature and pressure is 16 as we are dealing with a 16 tire truck.\n",
    "\n",
    "The mean temperature is 77.9 degrees, and the mean pressure is 104.01.\n",
    "\n",
    "The standard deviation for temperature is 3.16, which means that the data points for temperature are somewhat dispersed around the mean. The standard deviation for pressure is 4.16, which indicates a slightly greater variability in the pressure measurements.\n",
    "\n",
    "The minimum temperature is 72.9, and the minimum pressure is 98.6.\n",
    "\n",
    "25% of the temperature measurements are below 75.63, and 25% of the pressure measurements are below 100.85.\n",
    "\n",
    "50% of the temperature measurements are below 78.05, and 50% of the pressure measurements are below 102.25.\n",
    "\n",
    "75% of the temperature measurements are below 79.82, and 75% of the pressure measurements are below 108.03.\n",
    "\n",
    "The maximum temperature is 83.5, and the maximum pressure is 111.5.\n",
    "\n",
    "GPS latitude, GPS longitude, vehicle speed, fuel level, oil pressure, and engine temperature have the same values for all 16 observations and as they do not vary across observations, they do not provide any useful information for analysis or inference."
   ]
  },
  {
   "cell_type": "code",
   "execution_count": 36,
   "id": "5d45c88c",
   "metadata": {},
   "outputs": [
    {
     "data": {
      "image/png": "[encoded data removed]",
      "text/plain": [
       "<Figure size 640x480 with 1 Axes>"
      ]
     },
     "metadata": {},
     "output_type": "display_data"
    }
   ],
   "source": [
    "# Scatter plot of temperature and pressure for all tires\n",
    "plt.scatter(df['temperature'], df['pressure'])\n",
    "plt.xlabel('Temperature')\n",
    "plt.ylabel('Pressure')\n",
    "plt.title('Scatter plot of temperature and pressure for all tires')\n",
    "plt.show()\n"
   ]
  },
  {
   "cell_type": "markdown",
   "id": "8d8272ba",
   "metadata": {},
   "source": [
    "From the scatter plot, we can see that there is a positive correlation between temperature and pressure.\n",
    "\n",
    "We can also see that there are some outliers in the data, which could indicate some issues with certain tires or sensor malfunctions. Further investigation may be needed to identify and address these issues.\n",
    "\n"
   ]
  },
  {
   "cell_type": "code",
   "execution_count": 22,
   "id": "2c5a68b5",
   "metadata": {
    "scrolled": true
   },
   "outputs": [
    {
     "data": {
      "image/png": "[encoded data removed]",
      "text/plain": [
       "<Figure size 640x480 with 1 Axes>"
      ]
     },
     "metadata": {},
     "output_type": "display_data"
    }
   ],
   "source": [
    "\n",
    "# Plot the scatter plot of temperature and pressure for all tires\n",
    "plt.scatter(df['temperature'], df['pressure'])\n",
    "plt.xlabel('temperature')\n",
    "plt.ylabel('pressure')\n",
    "plt.title('Scatter plot of temperature and pressure for all tires')\n",
    "\n",
    "# Add text labels for each tire location\n",
    "for i in range(len(df)):\n",
    "    plt.annotate(df['tire_location'][i], xy=(df['temperature'][i], df['pressure'][i]), \n",
    "                 xytext=(5, -5), textcoords='offset points', ha='left', va='top', fontsize=8)\n",
    "\n",
    "plt.show()\n"
   ]
  },
  {
   "cell_type": "markdown",
   "id": "e7497caf",
   "metadata": {},
   "source": [
    "From the scatter plot we can observe that the Front Inner Right tire has a high pressure value (around 111.5) and also a high temperature value (around 83.5), which falls outside the general pattern of the other data points. \n",
    "\n",
    "This point appears to be an extreme observation compared to the others, which could be considered an outlier. So it might indicate a electrical sensor error or could indicate some issue with the tire"
   ]
  },
  {
   "cell_type": "markdown",
   "id": "bee55eb6",
   "metadata": {},
   "source": [
    "Also, the positive correlation found is not very strong and there is a lot of variation in the data. Therefore, we cannot make any definitive conclusions about the relationship between these two variables based on this plot alone. We would need to do further analysis, such as calculating correlation coefficients and performing hypothesis tests, to determine if this relationship is statistically significant.\n"
   ]
  },
  {
   "cell_type": "code",
   "execution_count": 27,
   "id": "dc07c02f",
   "metadata": {},
   "outputs": [
    {
     "name": "stdout",
     "output_type": "stream",
     "text": [
      "Correlation coefficient between temperature and pressure: 0.8035429354818763\n"
     ]
    }
   ],
   "source": [
    "correlation_coefficient = df['temperature'].corr(df['pressure'])\n",
    "print('Correlation coefficient between temperature and pressure:', correlation_coefficient)\n"
   ]
  },
  {
   "cell_type": "markdown",
   "id": "83781828",
   "metadata": {},
   "source": [
    "The Pearson correlation coefficient measures the linear correlation between two variables, with values ranging from -1 (perfect negative correlation) to 1 (perfect positive correlation). A value of 0 indicates no correlation.\n"
   ]
  },
  {
   "cell_type": "code",
   "execution_count": 14,
   "id": "bf69dddc",
   "metadata": {},
   "outputs": [
    {
     "data": {
      "image/png": "[encoded data removed]",
      "text/plain": [
       "<Figure size 640x480 with 1 Axes>"
      ]
     },
     "metadata": {},
     "output_type": "display_data"
    }
   ],
   "source": [
    "\n",
    "# Histogram of pressure for all tires\n",
    "df['pressure'].hist(bins=10)\n",
    "plt.xlabel('Pressure')\n",
    "plt.ylabel('Frequency')\n",
    "plt.title('Histogram of pressure for all tires')\n",
    "plt.show()\n"
   ]
  },
  {
   "cell_type": "markdown",
   "id": "5e400772",
   "metadata": {},
   "source": [
    "The histogram shows the distribution of the tire pressure values. From the histogram, we can infer that the tire pressures are mostly centered around 100 psi, with a few values at higher and lower pressures. The distribution also appears to be roughly symmetric, indicating that there are no significant outliers or biases in the data.(The histogram is symmetric when the frequency of values in the left half of the histogram is the same as the frequency of values in the right half of the histogram.) \n",
    "\n",
    "This is a good sign as it suggests that the tire pressure sensors are functioning as intended and providing accurate readings."
   ]
  }
 ],
 "metadata": {
  "kernelspec": {
   "display_name": "Python 3 (ipykernel)",
   "language": "python",
   "name": "python3"
  },
  "language_info": {
   "codemirror_mode": {
    "name": "ipython",
    "version": 3
   },
   "file_extension": ".py",
   "mimetype": "text/x-python",
   "name": "python",
   "nbconvert_exporter": "python",
   "pygments_lexer": "ipython3",
   "version": "3.8.10"
  }
 },
 "nbformat": 4,
 "nbformat_minor": 5
}
